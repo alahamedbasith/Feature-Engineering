{
 "cells": [
  {
   "cell_type": "markdown",
   "id": "c1670f34",
   "metadata": {},
   "source": [
    "### Outliers and Impact on Machine Learning"
   ]
  },
  {
   "cell_type": "markdown",
   "id": "fe2b07fd",
   "metadata": {},
   "source": [
    "### Which machine learning models are sensitive to outliers ?\n",
    "\n",
    "1. Naive Bayes ------ Not Sensitive to outliers\n",
    "2. SVM ------- Not Sensitive to outliers\n",
    "3. Linear Regression -------- Sensitive to outliers\n",
    "4. Logistic Regression ------- Sensitive to outliers\n",
    "5. Decision Tree -------- Not Sensitive to outliers\n",
    "6. Ensemble(RF,XG,Ada,GB) -------- Not Sensitive to outliers\n",
    "7. KNN --------- Not Sensitive\n",
    "8. Kmeans -------- Sensitive\n",
    "9. Hierarchical --------- Sensitive\n",
    "10. PCA,LDA -------- Sensitive\n",
    "11. DBScan --------- Sensitive\n",
    "12. Neural Network -------- Sensitive\n",
    "\n",
    "Unsupervised ML algorithms are mostly sensitive to outliers"
   ]
  },
  {
   "cell_type": "markdown",
   "id": "0205eb0b",
   "metadata": {},
   "source": [
    "#### Remember\n",
    "\n",
    "- Avoid to Use not sensitive algorithms\n",
    "\n",
    "- Dont directly select the neural network if the dataset is imbalanced and outliers.Use each and every algorithm which are not sensitive to outliers.\n",
    "\n",
    "- If the dataset is good use selected algorithm which are sensitive or not sensitive.\n",
    "\n",
    "- If have huge amount of data and records use sensitive related algorithm."
   ]
  },
  {
   "cell_type": "code",
   "execution_count": 143,
   "id": "2bbe1023",
   "metadata": {},
   "outputs": [],
   "source": [
    "# Import the dataset\n",
    "\n",
    "import pandas as pd\n",
    "df = pd.read_csv('D:\\\\Feature Engineering\\\\Datasets\\\\Titanic Datasets\\\\train.csv')"
   ]
  },
  {
   "cell_type": "code",
   "execution_count": 144,
   "id": "b0a2f35f",
   "metadata": {},
   "outputs": [
    {
     "data": {
      "text/html": [
       "<div>\n",
       "<style scoped>\n",
       "    .dataframe tbody tr th:only-of-type {\n",
       "        vertical-align: middle;\n",
       "    }\n",
       "\n",
       "    .dataframe tbody tr th {\n",
       "        vertical-align: top;\n",
       "    }\n",
       "\n",
       "    .dataframe thead th {\n",
       "        text-align: right;\n",
       "    }\n",
       "</style>\n",
       "<table border=\"1\" class=\"dataframe\">\n",
       "  <thead>\n",
       "    <tr style=\"text-align: right;\">\n",
       "      <th></th>\n",
       "      <th>PassengerId</th>\n",
       "      <th>Survived</th>\n",
       "      <th>Pclass</th>\n",
       "      <th>Name</th>\n",
       "      <th>Sex</th>\n",
       "      <th>Age</th>\n",
       "      <th>SibSp</th>\n",
       "      <th>Parch</th>\n",
       "      <th>Ticket</th>\n",
       "      <th>Fare</th>\n",
       "      <th>Cabin</th>\n",
       "      <th>Embarked</th>\n",
       "    </tr>\n",
       "  </thead>\n",
       "  <tbody>\n",
       "    <tr>\n",
       "      <th>0</th>\n",
       "      <td>1</td>\n",
       "      <td>0</td>\n",
       "      <td>3</td>\n",
       "      <td>Braund, Mr. Owen Harris</td>\n",
       "      <td>male</td>\n",
       "      <td>22.0</td>\n",
       "      <td>1</td>\n",
       "      <td>0</td>\n",
       "      <td>A/5 21171</td>\n",
       "      <td>7.2500</td>\n",
       "      <td>NaN</td>\n",
       "      <td>S</td>\n",
       "    </tr>\n",
       "    <tr>\n",
       "      <th>1</th>\n",
       "      <td>2</td>\n",
       "      <td>1</td>\n",
       "      <td>1</td>\n",
       "      <td>Cumings, Mrs. John Bradley (Florence Briggs Th...</td>\n",
       "      <td>female</td>\n",
       "      <td>38.0</td>\n",
       "      <td>1</td>\n",
       "      <td>0</td>\n",
       "      <td>PC 17599</td>\n",
       "      <td>71.2833</td>\n",
       "      <td>C85</td>\n",
       "      <td>C</td>\n",
       "    </tr>\n",
       "    <tr>\n",
       "      <th>2</th>\n",
       "      <td>3</td>\n",
       "      <td>1</td>\n",
       "      <td>3</td>\n",
       "      <td>Heikkinen, Miss. Laina</td>\n",
       "      <td>female</td>\n",
       "      <td>26.0</td>\n",
       "      <td>0</td>\n",
       "      <td>0</td>\n",
       "      <td>STON/O2. 3101282</td>\n",
       "      <td>7.9250</td>\n",
       "      <td>NaN</td>\n",
       "      <td>S</td>\n",
       "    </tr>\n",
       "    <tr>\n",
       "      <th>3</th>\n",
       "      <td>4</td>\n",
       "      <td>1</td>\n",
       "      <td>1</td>\n",
       "      <td>Futrelle, Mrs. Jacques Heath (Lily May Peel)</td>\n",
       "      <td>female</td>\n",
       "      <td>35.0</td>\n",
       "      <td>1</td>\n",
       "      <td>0</td>\n",
       "      <td>113803</td>\n",
       "      <td>53.1000</td>\n",
       "      <td>C123</td>\n",
       "      <td>S</td>\n",
       "    </tr>\n",
       "    <tr>\n",
       "      <th>4</th>\n",
       "      <td>5</td>\n",
       "      <td>0</td>\n",
       "      <td>3</td>\n",
       "      <td>Allen, Mr. William Henry</td>\n",
       "      <td>male</td>\n",
       "      <td>35.0</td>\n",
       "      <td>0</td>\n",
       "      <td>0</td>\n",
       "      <td>373450</td>\n",
       "      <td>8.0500</td>\n",
       "      <td>NaN</td>\n",
       "      <td>S</td>\n",
       "    </tr>\n",
       "  </tbody>\n",
       "</table>\n",
       "</div>"
      ],
      "text/plain": [
       "   PassengerId  Survived  Pclass  \\\n",
       "0            1         0       3   \n",
       "1            2         1       1   \n",
       "2            3         1       3   \n",
       "3            4         1       1   \n",
       "4            5         0       3   \n",
       "\n",
       "                                                Name     Sex   Age  SibSp  \\\n",
       "0                            Braund, Mr. Owen Harris    male  22.0      1   \n",
       "1  Cumings, Mrs. John Bradley (Florence Briggs Th...  female  38.0      1   \n",
       "2                             Heikkinen, Miss. Laina  female  26.0      0   \n",
       "3       Futrelle, Mrs. Jacques Heath (Lily May Peel)  female  35.0      1   \n",
       "4                           Allen, Mr. William Henry    male  35.0      0   \n",
       "\n",
       "   Parch            Ticket     Fare Cabin Embarked  \n",
       "0      0         A/5 21171   7.2500   NaN        S  \n",
       "1      0          PC 17599  71.2833   C85        C  \n",
       "2      0  STON/O2. 3101282   7.9250   NaN        S  \n",
       "3      0            113803  53.1000  C123        S  \n",
       "4      0            373450   8.0500   NaN        S  "
      ]
     },
     "execution_count": 144,
     "metadata": {},
     "output_type": "execute_result"
    }
   ],
   "source": [
    "df.head()"
   ]
  },
  {
   "cell_type": "code",
   "execution_count": 145,
   "id": "fe4d6f8c",
   "metadata": {},
   "outputs": [
    {
     "data": {
      "text/plain": [
       "177"
      ]
     },
     "execution_count": 145,
     "metadata": {},
     "output_type": "execute_result"
    }
   ],
   "source": [
    "df.Age.isnull().sum()"
   ]
  },
  {
   "cell_type": "markdown",
   "id": "dca1095a",
   "metadata": {},
   "source": [
    "### Note and Remember:\n",
    "- When you plot a boxplot or any other kind of plot using libraries like seaborn or matplotlib, NaN values in your data will generally be ignored by default. \n",
    "\n",
    "- The describe() method in pandas, when applied to a Series like df['Age'], calculates summary statistics for the non-null values in the Series. This means that it will not include NaN values in calculations such as the mean (average)."
   ]
  },
  {
   "cell_type": "code",
   "execution_count": 146,
   "id": "f5d8d489",
   "metadata": {},
   "outputs": [
    {
     "data": {
      "text/plain": [
       "<seaborn.axisgrid.FacetGrid at 0x13b0e797790>"
      ]
     },
     "execution_count": 146,
     "metadata": {},
     "output_type": "execute_result"
    },
    {
     "data": {
      "image/png": "[encoded data removed]",
      "text/plain": [
       "<Figure size 500x500 with 1 Axes>"
      ]
     },
     "metadata": {},
     "output_type": "display_data"
    }
   ],
   "source": [
    "# Visualize the age using displot\n",
    "\n",
    "import seaborn as sns\n",
    "sns.displot(df['Age'].dropna(),kde=True)"
   ]
  },
  {
   "cell_type": "markdown",
   "id": "e4c31ae4",
   "metadata": {},
   "source": [
    "After removing Nan value in age using dropna().It looks like an normal distribution."
   ]
  },
  {
   "cell_type": "code",
   "execution_count": 147,
   "id": "90e57793",
   "metadata": {},
   "outputs": [
    {
     "data": {
      "text/plain": [
       "<seaborn.axisgrid.FacetGrid at 0x13b0e1a1930>"
      ]
     },
     "execution_count": 147,
     "metadata": {},
     "output_type": "execute_result"
    },
    {
     "data": {
      "image/png": "[encoded data removed]",
      "text/plain": [
       "<Figure size 500x500 with 1 Axes>"
      ]
     },
     "metadata": {},
     "output_type": "display_data"
    }
   ],
   "source": [
    "sns.displot(df['Age'].fillna(100),kde=True) # Create the outliers"
   ]
  },
  {
   "cell_type": "code",
   "execution_count": 148,
   "id": "bae4f7fe",
   "metadata": {},
   "outputs": [
    {
     "data": {
      "text/plain": [
       "Text(0, 0.5, 'No of Passenger')"
      ]
     },
     "execution_count": 148,
     "metadata": {},
     "output_type": "execute_result"
    },
    {
     "data": {
      "image/png": "[encoded data removed]",
      "text/plain": [
       "<Figure size 640x480 with 1 Axes>"
      ]
     },
     "metadata": {},
     "output_type": "display_data"
    }
   ],
   "source": [
    "figure = df.Age.dropna().hist(bins=50)\n",
    "figure.set_title('Age Distribution')\n",
    "figure.set_xlabel('Age')\n",
    "figure.set_ylabel('No of Passenger')"
   ]
  },
  {
   "cell_type": "code",
   "execution_count": 149,
   "id": "9fb7190d",
   "metadata": {},
   "outputs": [
    {
     "data": {
      "image/png": "[encoded data removed]",
      "text/plain": [
       "<Figure size 640x480 with 1 Axes>"
      ]
     },
     "metadata": {},
     "output_type": "display_data"
    }
   ],
   "source": [
    "figure = df.boxplot(column = 'Age')"
   ]
  },
  {
   "cell_type": "code",
   "execution_count": 150,
   "id": "36056a86",
   "metadata": {},
   "outputs": [
    {
     "data": {
      "text/plain": [
       "count    714.000000\n",
       "mean      29.699118\n",
       "std       14.526497\n",
       "min        0.420000\n",
       "25%       20.125000\n",
       "50%       28.000000\n",
       "75%       38.000000\n",
       "max       80.000000\n",
       "Name: Age, dtype: float64"
      ]
     },
     "execution_count": 150,
     "metadata": {},
     "output_type": "execute_result"
    }
   ],
   "source": [
    "df['Age'].describe()"
   ]
  },
  {
   "cell_type": "markdown",
   "id": "c3736ac9",
   "metadata": {},
   "source": [
    "### Finding outliers using three standard deviation"
   ]
  },
  {
   "cell_type": "code",
   "execution_count": 151,
   "id": "99e10586",
   "metadata": {},
   "outputs": [],
   "source": [
    "# Assuming Age follows the normal distribution we will ccalculate the boundaries which differentiates the outliers\n",
    "\n",
    "upper_boundary = df['Age'].mean() + 3*df['Age'].std()  # Upperbound means the gaussian curve after 3 standard deviation right\n",
    "lower_boundary = df['Age'].mean() - 3*df['Age'].std()  # Lowerbound means the gaussian curve after 3 standard deviation left\n",
    "mean = df['Age'].mean()"
   ]
  },
  {
   "cell_type": "code",
   "execution_count": 152,
   "id": "c62a1df1",
   "metadata": {},
   "outputs": [
    {
     "data": {
      "text/plain": [
       "(-13.88037434994331, 29.69911764705882, 73.27860964406095)"
      ]
     },
     "execution_count": 152,
     "metadata": {},
     "output_type": "execute_result"
    }
   ],
   "source": [
    "lower_boundary,mean,upper_boundary"
   ]
  },
  {
   "cell_type": "markdown",
   "id": "09211d1f",
   "metadata": {},
   "source": [
    "- This is the one way to find outliers using after and before three std.\n",
    "- Then apply if conditions to reject the outliers."
   ]
  },
  {
   "cell_type": "markdown",
   "id": "432149a6",
   "metadata": {},
   "source": [
    "### Finding outliers using Boxplot Concept (Five Number Summary)"
   ]
  },
  {
   "cell_type": "code",
   "execution_count": 153,
   "id": "ea3090c9",
   "metadata": {},
   "outputs": [],
   "source": [
    "# using boxplot concepts\n",
    "\n",
    "# Calculate IQR \n",
    "IQR = df['Age'].quantile(0.75) - df['Age'].quantile(0.25)\n",
    "\n",
    "lower_fence = df['Age'].quantile(0.25) - (IQR*1.5)\n",
    "upper_fence = df['Age'].quantile(0.75) + (IQR*1.5)"
   ]
  },
  {
   "cell_type": "code",
   "execution_count": 154,
   "id": "ac1a5ea4",
   "metadata": {},
   "outputs": [
    {
     "data": {
      "text/plain": [
       "(-6.6875, 64.8125)"
      ]
     },
     "execution_count": 154,
     "metadata": {},
     "output_type": "execute_result"
    }
   ],
   "source": [
    "lower_fence,upper_fence"
   ]
  },
  {
   "cell_type": "code",
   "execution_count": 155,
   "id": "7055601c",
   "metadata": {},
   "outputs": [
    {
     "data": {
      "text/plain": [
       "(-33.5, 91.625)"
      ]
     },
     "execution_count": 155,
     "metadata": {},
     "output_type": "execute_result"
    }
   ],
   "source": [
    "# Extreme Outliers\n",
    "lower_fence = df['Age'].quantile(0.25) - (IQR*3)\n",
    "upper_fence = df['Age'].quantile(0.75) + (IQR*3)\n",
    "\n",
    "lower_fence,upper_fence"
   ]
  },
  {
   "cell_type": "markdown",
   "id": "bb019150",
   "metadata": {},
   "source": [
    "These are the methods to detect anamolies and outliers for the normal distributed data.It does not work well for skewed data."
   ]
  },
  {
   "cell_type": "markdown",
   "id": "6ed9254b",
   "metadata": {},
   "source": [
    "The values 1.5 and 3.0 are commonly used multipliers when working with the Interquartile Range (IQR) to identify potential outliers. These multipliers are part of a rule called the \"1.5 IQR rule\" or the \"3.0 IQR rule\" for identifying outliers in a dataset.\n",
    "\n",
    "Here's why these specific multipliers are used:\n",
    "\n",
    "#### 1.5 IQR Rule\n",
    "        When you use a multiplier of 1.5 with the IQR, you are creating relatively narrow bounds for what is considered\n",
    "        an outlier.\n",
    "        \n",
    "        Data points that are below Q1 - 1.5 * IQR or above Q3 + 1.5 * IQR are considered potential outliers.\n",
    "        This rule is less strict and may capture mild outliers.\n",
    "\n",
    "#### 3.0 IQR Rule\n",
    "        When you use a multiplier of 3.0 with the IQR, you are creating wider bounds for identifying outliers.\n",
    "        Data points that are below Q1 - 3.0 * IQR or above Q3 + 3.0 * IQR are considered potential outliers.\n",
    "        This rule is more strict and captures only extreme outliers.\n",
    "\n",
    "The choice between 1.5 and 3.0 depends on the context and the data you are working with. Using 1.5 is more commonly used and captures a broader range of potential outliers. Using 3.0 is more conservative and captures only the most extreme outliers. The choice should be based on the specific requirements of your analysis and the characteristics of your data."
   ]
  },
  {
   "cell_type": "markdown",
   "id": "8ad0840f",
   "metadata": {},
   "source": [
    "### How to find outliers if the data is not follows the gaussian distribution"
   ]
  },
  {
   "cell_type": "markdown",
   "id": "d699be96",
   "metadata": {},
   "source": [
    "#### If the data is skewed do following things,"
   ]
  },
  {
   "cell_type": "code",
   "execution_count": 156,
   "id": "cb122178",
   "metadata": {},
   "outputs": [
    {
     "data": {
      "text/plain": [
       "Text(0, 0.5, 'No of passengers')"
      ]
     },
     "execution_count": 156,
     "metadata": {},
     "output_type": "execute_result"
    },
    {
     "data": {
      "image/png": "[encoded data removed]",
      "text/plain": [
       "<Figure size 640x480 with 1 Axes>"
      ]
     },
     "metadata": {},
     "output_type": "display_data"
    }
   ],
   "source": [
    "# Suppose i plot the Fare feature\n",
    "figure = df['Fare'].hist(bins=50)\n",
    "figure.set_title('Fare Distribution')\n",
    "figure.set_xlabel('Fare')\n",
    "figure.set_ylabel('No of passengers')"
   ]
  },
  {
   "cell_type": "markdown",
   "id": "520f2ccd",
   "metadata": {},
   "source": [
    " See the data is right skewed"
   ]
  },
  {
   "cell_type": "code",
   "execution_count": 157,
   "id": "175ba73a",
   "metadata": {},
   "outputs": [
    {
     "data": {
      "text/plain": [
       "<Axes: >"
      ]
     },
     "execution_count": 157,
     "metadata": {},
     "output_type": "execute_result"
    },
    {
     "data": {
      "image/png": "[encoded data removed]",
      "text/plain": [
       "<Figure size 640x480 with 1 Axes>"
      ]
     },
     "metadata": {},
     "output_type": "display_data"
    }
   ],
   "source": [
    "df.boxplot(column = 'Fare')"
   ]
  },
  {
   "cell_type": "code",
   "execution_count": 158,
   "id": "d1103bf9",
   "metadata": {},
   "outputs": [
    {
     "data": {
      "text/plain": [
       "count    891.000000\n",
       "mean      32.204208\n",
       "std       49.693429\n",
       "min        0.000000\n",
       "25%        7.910400\n",
       "50%       14.454200\n",
       "75%       31.000000\n",
       "max      512.329200\n",
       "Name: Fare, dtype: float64"
      ]
     },
     "execution_count": 158,
     "metadata": {},
     "output_type": "execute_result"
    }
   ],
   "source": [
    "df['Fare'].describe()"
   ]
  },
  {
   "cell_type": "code",
   "execution_count": 159,
   "id": "dcc24cd8",
   "metadata": {},
   "outputs": [],
   "source": [
    "## lets compute the interquartile range to calculate the boundaries\n",
    "IQR = df.Fare.quantile(0.75) - df.Fare.quantile(0.25)"
   ]
  },
  {
   "cell_type": "code",
   "execution_count": 160,
   "id": "e11e5729",
   "metadata": {},
   "outputs": [
    {
     "data": {
      "text/plain": [
       "(-61.358399999999996, 100.2688)"
      ]
     },
     "execution_count": 160,
     "metadata": {},
     "output_type": "execute_result"
    }
   ],
   "source": [
    "# this is right skewed data inorder to avoid that outliers use extreme outliers\n",
    "# Extreme Outliers\n",
    "lower_fence = df['Fare'].quantile(0.25) - (IQR*3)\n",
    "upper_fence = df['Fare'].quantile(0.75) + (IQR*3)\n",
    "\n",
    "lower_fence,upper_fence"
   ]
  },
  {
   "cell_type": "markdown",
   "id": "ea0bd15a",
   "metadata": {},
   "source": [
    "##### Remember the right and left skewed data using Extreme outliers\n",
    "##### Normal distribution data using standard outliers technique"
   ]
  },
  {
   "cell_type": "code",
   "execution_count": 161,
   "id": "82364f68",
   "metadata": {},
   "outputs": [],
   "source": [
    "# Replace the outliers to normal data\n",
    "\n",
    "data = df.copy()\n",
    "\n",
    "data.loc[data['Age'] >= 73, 'Age'] = 73\n",
    "data.loc[data['Fare'] >= 100, 'Fare'] = 100"
   ]
  },
  {
   "cell_type": "code",
   "execution_count": 162,
   "id": "0b4c5121",
   "metadata": {},
   "outputs": [
    {
     "data": {
      "text/html": [
       "<div>\n",
       "<style scoped>\n",
       "    .dataframe tbody tr th:only-of-type {\n",
       "        vertical-align: middle;\n",
       "    }\n",
       "\n",
       "    .dataframe tbody tr th {\n",
       "        vertical-align: top;\n",
       "    }\n",
       "\n",
       "    .dataframe thead th {\n",
       "        text-align: right;\n",
       "    }\n",
       "</style>\n",
       "<table border=\"1\" class=\"dataframe\">\n",
       "  <thead>\n",
       "    <tr style=\"text-align: right;\">\n",
       "      <th></th>\n",
       "      <th>PassengerId</th>\n",
       "      <th>Survived</th>\n",
       "      <th>Pclass</th>\n",
       "      <th>Name</th>\n",
       "      <th>Sex</th>\n",
       "      <th>Age</th>\n",
       "      <th>SibSp</th>\n",
       "      <th>Parch</th>\n",
       "      <th>Ticket</th>\n",
       "      <th>Fare</th>\n",
       "      <th>Cabin</th>\n",
       "      <th>Embarked</th>\n",
       "    </tr>\n",
       "  </thead>\n",
       "  <tbody>\n",
       "    <tr>\n",
       "      <th>0</th>\n",
       "      <td>1</td>\n",
       "      <td>0</td>\n",
       "      <td>3</td>\n",
       "      <td>Braund, Mr. Owen Harris</td>\n",
       "      <td>male</td>\n",
       "      <td>22.0</td>\n",
       "      <td>1</td>\n",
       "      <td>0</td>\n",
       "      <td>A/5 21171</td>\n",
       "      <td>7.2500</td>\n",
       "      <td>NaN</td>\n",
       "      <td>S</td>\n",
       "    </tr>\n",
       "    <tr>\n",
       "      <th>1</th>\n",
       "      <td>2</td>\n",
       "      <td>1</td>\n",
       "      <td>1</td>\n",
       "      <td>Cumings, Mrs. John Bradley (Florence Briggs Th...</td>\n",
       "      <td>female</td>\n",
       "      <td>38.0</td>\n",
       "      <td>1</td>\n",
       "      <td>0</td>\n",
       "      <td>PC 17599</td>\n",
       "      <td>71.2833</td>\n",
       "      <td>C85</td>\n",
       "      <td>C</td>\n",
       "    </tr>\n",
       "    <tr>\n",
       "      <th>2</th>\n",
       "      <td>3</td>\n",
       "      <td>1</td>\n",
       "      <td>3</td>\n",
       "      <td>Heikkinen, Miss. Laina</td>\n",
       "      <td>female</td>\n",
       "      <td>26.0</td>\n",
       "      <td>0</td>\n",
       "      <td>0</td>\n",
       "      <td>STON/O2. 3101282</td>\n",
       "      <td>7.9250</td>\n",
       "      <td>NaN</td>\n",
       "      <td>S</td>\n",
       "    </tr>\n",
       "    <tr>\n",
       "      <th>3</th>\n",
       "      <td>4</td>\n",
       "      <td>1</td>\n",
       "      <td>1</td>\n",
       "      <td>Futrelle, Mrs. Jacques Heath (Lily May Peel)</td>\n",
       "      <td>female</td>\n",
       "      <td>35.0</td>\n",
       "      <td>1</td>\n",
       "      <td>0</td>\n",
       "      <td>113803</td>\n",
       "      <td>53.1000</td>\n",
       "      <td>C123</td>\n",
       "      <td>S</td>\n",
       "    </tr>\n",
       "    <tr>\n",
       "      <th>4</th>\n",
       "      <td>5</td>\n",
       "      <td>0</td>\n",
       "      <td>3</td>\n",
       "      <td>Allen, Mr. William Henry</td>\n",
       "      <td>male</td>\n",
       "      <td>35.0</td>\n",
       "      <td>0</td>\n",
       "      <td>0</td>\n",
       "      <td>373450</td>\n",
       "      <td>8.0500</td>\n",
       "      <td>NaN</td>\n",
       "      <td>S</td>\n",
       "    </tr>\n",
       "  </tbody>\n",
       "</table>\n",
       "</div>"
      ],
      "text/plain": [
       "   PassengerId  Survived  Pclass  \\\n",
       "0            1         0       3   \n",
       "1            2         1       1   \n",
       "2            3         1       3   \n",
       "3            4         1       1   \n",
       "4            5         0       3   \n",
       "\n",
       "                                                Name     Sex   Age  SibSp  \\\n",
       "0                            Braund, Mr. Owen Harris    male  22.0      1   \n",
       "1  Cumings, Mrs. John Bradley (Florence Briggs Th...  female  38.0      1   \n",
       "2                             Heikkinen, Miss. Laina  female  26.0      0   \n",
       "3       Futrelle, Mrs. Jacques Heath (Lily May Peel)  female  35.0      1   \n",
       "4                           Allen, Mr. William Henry    male  35.0      0   \n",
       "\n",
       "   Parch            Ticket     Fare Cabin Embarked  \n",
       "0      0         A/5 21171   7.2500   NaN        S  \n",
       "1      0          PC 17599  71.2833   C85        C  \n",
       "2      0  STON/O2. 3101282   7.9250   NaN        S  \n",
       "3      0            113803  53.1000  C123        S  \n",
       "4      0            373450   8.0500   NaN        S  "
      ]
     },
     "execution_count": 162,
     "metadata": {},
     "output_type": "execute_result"
    }
   ],
   "source": [
    "data.head()"
   ]
  },
  {
   "cell_type": "code",
   "execution_count": 163,
   "id": "83f6a446",
   "metadata": {},
   "outputs": [
    {
     "data": {
      "text/plain": [
       "Text(0, 0.5, 'No of passengers')"
      ]
     },
     "execution_count": 163,
     "metadata": {},
     "output_type": "execute_result"
    },
    {
     "data": {
      "image/png": "[encoded data removed]",
      "text/plain": [
       "<Figure size 640x480 with 1 Axes>"
      ]
     },
     "metadata": {},
     "output_type": "display_data"
    }
   ],
   "source": [
    "# Suppose i plot the Fare feature\n",
    "figure = data['Fare'].hist(bins=50)\n",
    "figure.set_title('Fare Distribution')\n",
    "figure.set_xlabel('Fare')\n",
    "figure.set_ylabel('No of passengers')"
   ]
  },
  {
   "cell_type": "markdown",
   "id": "111ef2ed",
   "metadata": {},
   "source": [
    " See the most of outliers are converted into 100."
   ]
  },
  {
   "cell_type": "code",
   "execution_count": 164,
   "id": "b73b947c",
   "metadata": {},
   "outputs": [
    {
     "data": {
      "text/plain": [
       "Text(0, 0.5, 'No of passengers')"
      ]
     },
     "execution_count": 164,
     "metadata": {},
     "output_type": "execute_result"
    },
    {
     "data": {
      "image/png": "[encoded data removed]",
      "text/plain": [
       "<Figure size 640x480 with 1 Axes>"
      ]
     },
     "metadata": {},
     "output_type": "display_data"
    }
   ],
   "source": [
    "# Suppose i plot the Age feature\n",
    "figure = data['Age'].hist(bins=50)\n",
    "figure.set_title('Age Distribution')\n",
    "figure.set_xlabel('Age')\n",
    "figure.set_ylabel('No of passengers')"
   ]
  },
  {
   "cell_type": "markdown",
   "id": "1b7c0077",
   "metadata": {},
   "source": [
    "See the age is limited with 73 others are removed with the help of above condition"
   ]
  },
  {
   "cell_type": "code",
   "execution_count": 171,
   "id": "7eedef4a",
   "metadata": {},
   "outputs": [],
   "source": [
    "# Lets build some machine learning model from data not df(because in data we removed outliers)\n",
    "\n",
    "# train test split\n",
    "\n",
    "from sklearn.model_selection import train_test_split\n",
    "X_train,X_test,y_train,y_test = train_test_split(data[['Age','Fare']].fillna(0),data['Survived'],test_size = 0.20) # passing independent and not independent feature\n"
   ]
  },
  {
   "cell_type": "code",
   "execution_count": 172,
   "id": "dd74e5ef",
   "metadata": {},
   "outputs": [
    {
     "name": "stdout",
     "output_type": "stream",
     "text": [
      "Acuracy_score:0.6927374301675978\n",
      "Roc_Auc_score:0.6986490212296664\n"
     ]
    }
   ],
   "source": [
    "## Using Logistic Regression\n",
    "from sklearn.linear_model import LogisticRegression\n",
    "classifier = LogisticRegression()\n",
    "classifier.fit(X_train,y_train)\n",
    "y_pred = classifier.predict(X_test)\n",
    "y_pred1 = classifier.predict_proba(X_test) # why probability is calculate because of this is parameter of ROC AOC Score\n",
    "\n",
    "from sklearn.metrics import accuracy_score,roc_auc_score\n",
    "print(\"Acuracy_score:{}\".format(accuracy_score(y_test,y_pred)))\n",
    "print(\"Roc_Auc_score:{}\".format(roc_auc_score(y_test,y_pred1[:,1])))"
   ]
  },
  {
   "cell_type": "code",
   "execution_count": 173,
   "id": "299a2611",
   "metadata": {},
   "outputs": [
    {
     "name": "stdout",
     "output_type": "stream",
     "text": [
      "Acuracy_score:0.7094972067039106\n",
      "Roc_Auc_score:0.7568238213399504\n"
     ]
    }
   ],
   "source": [
    "## Using Random Forest Regression\n",
    "from sklearn.ensemble import RandomForestClassifier\n",
    "classifier = RandomForestClassifier()\n",
    "classifier.fit(X_train,y_train)\n",
    "y_pred = classifier.predict(X_test)\n",
    "y_pred1 = classifier.predict_proba(X_test)\n",
    "\n",
    "from sklearn.metrics import accuracy_score,roc_auc_score\n",
    "print(\"Acuracy_score:{}\".format(accuracy_score(y_test,y_pred)))\n",
    "print(\"Roc_Auc_score:{}\".format(roc_auc_score(y_test,y_pred1[:,1])))\n"
   ]
  },
  {
   "cell_type": "markdown",
   "id": "2f0f89bf",
   "metadata": {},
   "source": [
    "### ROC AUC Score\n",
    "   The ROC AUC (Receiver Operating Characteristic Area Under the Curve) score is a measure that tells you how well a binary classification model can distinguish between two classes, typically a positive class and a negative class. It quantifies the model's ability to correctly classify examples from both classes while varying the classification threshold.\n",
    "\n",
    "#### How it works:\n",
    "\n",
    "Imagine you have a model that predicts whether an email is spam (positive class) or not spam (negative class). The ROC AUC score evaluates how well your model can differentiate between spam and non-spam emails across different threshold values. It looks at the trade-off between correctly identifying spam emails (True Positives) and incorrectly classifying non-spam emails as spam (False Positives).\n",
    "\n",
    "#### When to use it:\n",
    "\n",
    "You should consider using ROC AUC when:\n",
    "\n",
    "   Binary Classification: You are working on a binary classification problem where you want to assess the performance of a model that classifies data into two categories (e.g., spam or not spam, disease-positive or disease-negative).\n",
    "\n",
    "   Model Comparison: You want to compare the performance of different models to see which one does a better job of distinguishing between the two classes. ROC AUC is useful for model selection.\n",
    "\n",
    "   Imbalanced Classes: Your dataset has imbalanced class distribution, meaning one class significantly outnumbers the other. ROC AUC provides a reliable performance measure in such cases.\n",
    "\n",
    "   Threshold Independence: You don't want to specify a fixed classification threshold. ROC AUC considers all possible thresholds, making it suitable for situations where you're not sure which threshold is best."
   ]
  }
 ],
 "metadata": {
  "kernelspec": {
   "display_name": "Python 3 (ipykernel)",
   "language": "python",
   "name": "python3"
  },
  "language_info": {
   "codemirror_mode": {
    "name": "ipython",
    "version": 3
   },
   "file_extension": ".py",
   "mimetype": "text/x-python",
   "name": "python",
   "nbconvert_exporter": "python",
   "pygments_lexer": "ipython3",
   "version": "3.10.9"
  }
 },
 "nbformat": 4,
 "nbformat_minor": 5
}
